{
  "cells": [
    {
      "cell_type": "markdown",
      "metadata": {
        "id": "jMlCBzYAh6Zd"
      },
      "source": [
        "Download GitHub repository, set it as root directory, and install dependencies"
      ]
    },
    {
      "cell_type": "code",
      "execution_count": null,
      "metadata": {
        "colab": {
          "base_uri": "https://localhost:8080/"
        },
        "id": "ndQcUoeqhd62",
        "outputId": "a7a5f57f-b40c-436e-c106-ec1f17d04f2d"
      },
      "outputs": [],
      "source": [
        "import os\n",
        "os.chdir(\"/content\")\n",
        "!git clone https://github.com/kmeng01/yolo-server\n",
        "os.chdir(\"/content/yolo-server\")\n",
        "!pip install -q modal"
      ]
    },
    {
      "cell_type": "markdown",
      "metadata": {
        "id": "o-iBQ8hbiQ-2"
      },
      "source": [
        "Authenticate [Modal](https://modal.com) account. Visit https://modal.com/settings/tokens to create a token/secret combination."
      ]
    },
    {
      "cell_type": "code",
      "execution_count": null,
      "metadata": {
        "colab": {
          "base_uri": "https://localhost:8080/"
        },
        "id": "4o0NNSB1iQIl",
        "outputId": "68165527-2ad6-464a-a6ad-e8184177603f"
      },
      "outputs": [],
      "source": [
        "!modal token set --token-id  --token-secret"
      ]
    },
    {
      "cell_type": "markdown",
      "metadata": {},
      "source": [
        "Serve the application"
      ]
    },
    {
      "cell_type": "code",
      "execution_count": null,
      "metadata": {
        "colab": {
          "base_uri": "https://localhost:8080/"
        },
        "id": "kHZ1wQwWhqEH",
        "outputId": "1e26fe3a-7e44-493c-a109-24b76d477d7b"
      },
      "outputs": [],
      "source": [
        "!modal serve main.py"
      ]
    },
    {
      "cell_type": "code",
      "execution_count": null,
      "metadata": {},
      "outputs": [],
      "source": []
    }
  ],
  "metadata": {
    "colab": {
      "provenance": []
    },
    "kernelspec": {
      "display_name": "Python 3",
      "name": "python3"
    },
    "language_info": {
      "codemirror_mode": {
        "name": "ipython",
        "version": 3
      },
      "file_extension": ".py",
      "mimetype": "text/x-python",
      "name": "python",
      "nbconvert_exporter": "python",
      "pygments_lexer": "ipython3",
      "version": "3.10.8"
    }
  },
  "nbformat": 4,
  "nbformat_minor": 0
}
